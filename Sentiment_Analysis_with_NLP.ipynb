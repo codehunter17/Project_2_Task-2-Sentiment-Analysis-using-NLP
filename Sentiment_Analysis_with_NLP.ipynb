{
 "cells": [
  {
   "cell_type": "markdown",
   "id": "d75015d8",
   "metadata": {},
   "source": [
    "# Sentiment Analysis with NLP\n",
    "\n",
    "Performing Sentiment Analysis on customer reviews using TF-IDF Vectorization and Logistic Regression."
   ]
  },
  {
   "cell_type": "code",
   "execution_count": null,
   "id": "eb45a1ae",
   "metadata": {},
   "outputs": [],
   "source": [
    "\n",
    "# Step 1: Import necessary libraries\n",
    "import pandas as pd\n",
    "import numpy as np\n",
    "from sklearn.feature_extraction.text import TfidfVectorizer\n",
    "from sklearn.model_selection import train_test_split\n",
    "from sklearn.linear_model import LogisticRegression\n",
    "from sklearn.metrics import accuracy_score, classification_report, confusion_matrix\n"
   ]
  },
  {
   "cell_type": "code",
   "execution_count": null,
   "id": "52e8ab14",
   "metadata": {},
   "outputs": [],
   "source": [
    "\n",
    "# Step 2: Load the dataset\n",
    "# For this example, I am creating a small sample dataset manually\n",
    "data = {\n",
    "    'Review': [\n",
    "        'I love this product, it is amazing!',\n",
    "        'Terrible experience, I hate it.',\n",
    "        'Absolutely fantastic! Highly recommend.',\n",
    "        'Worst purchase I have ever made.',\n",
    "        'Very good quality, happy with it.',\n",
    "        'Not worth the money.',\n",
    "        'Excellent value for the price.',\n",
    "        'Disappointed and won’t buy again.'\n",
    "    ],\n",
    "    'Sentiment': [1, 0, 1, 0, 1, 0, 1, 0]  # 1=Positive, 0=Negative\n",
    "}\n",
    "\n",
    "df = pd.DataFrame(data)\n",
    "print(df.head())\n"
   ]
  },
  {
   "cell_type": "code",
   "execution_count": null,
   "id": "7e23b049",
   "metadata": {},
   "outputs": [],
   "source": [
    "\n",
    "# Step 3: Preprocessing and Vectorization\n",
    "tfidf = TfidfVectorizer(stop_words='english')\n",
    "X = tfidf.fit_transform(df['Review'])\n",
    "y = df['Sentiment']\n"
   ]
  },
  {
   "cell_type": "code",
   "execution_count": null,
   "id": "f7706463",
   "metadata": {},
   "outputs": [],
   "source": [
    "\n",
    "# Step 4: Split the data\n",
    "X_train, X_test, y_train, y_test = train_test_split(X, y, test_size=0.2, random_state=42)\n"
   ]
  },
  {
   "cell_type": "code",
   "execution_count": null,
   "id": "2de44367",
   "metadata": {},
   "outputs": [],
   "source": [
    "\n",
    "# Step 5: Train Logistic Regression Model\n",
    "model = LogisticRegression()\n",
    "model.fit(X_train, y_train)\n"
   ]
  },
  {
   "cell_type": "code",
   "execution_count": null,
   "id": "3853b63f",
   "metadata": {},
   "outputs": [],
   "source": [
    "\n",
    "# Step 6: Evaluate the Model\n",
    "y_pred = model.predict(X_test)\n",
    "\n",
    "print(\"Accuracy:\", accuracy_score(y_test, y_pred))\n",
    "print(\"\\nClassification Report:\\n\", classification_report(y_test, y_pred))\n",
    "print(\"\\nConfusion Matrix:\\n\", confusion_matrix(y_test, y_pred))\n"
   ]
  },
  {
   "cell_type": "code",
   "execution_count": null,
   "id": "1a78f20c",
   "metadata": {},
   "outputs": [],
   "source": [
    "\n",
    "# Step 7: Test the model on new data\n",
    "new_reviews = [\"I really love this!\", \"This is the worst thing I bought.\"]\n",
    "new_X = tfidf.transform(new_reviews)\n",
    "new_pred = model.predict(new_X)\n",
    "\n",
    "for review, sentiment in zip(new_reviews, new_pred):\n",
    "    print(f\"Review: {review} --> Sentiment: {'Positive' if sentiment == 1 else 'Negative'}\")\n"
   ]
  }
 ],
 "metadata": {},
 "nbformat": 4,
 "nbformat_minor": 5
}
